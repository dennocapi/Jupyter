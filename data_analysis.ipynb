{
 "cells": [
  {
   "cell_type": "code",
   "execution_count": null,
   "metadata": {
    "scrolled": true
   },
   "outputs": [],
   "source": [
    "import requests\n",
    "from bs4 import BeautifulSoup as bs\n",
    "from urllib.request import urlopen\n",
    "import pandas as pd\n",
    "import numpy as np\n",
    "import matplotlib.pyplot as plt\n",
    "import seaborn as sns\n",
    "from pylab import rcParams\n",
    "import re\n",
    "\n",
    "%matplotlib inline\n",
    "\n",
    "url = 'https://www.hubertiming.com/results/2017GPTR10K'\n",
    "\n",
    "html = urlopen(url)\n",
    "\n",
    "soup = bs(html,'lxml')\n",
    "\n",
    "text = soup.get_text()\n",
    "\n",
    "print('The dataset that I will use for analysis was taken from a 10K race that took place in Hillsboro,on June 2017.')\n",
    "print('The objective of this anylysis is to find :')\n",
    "print('1.The average finish time for the 10k runners')\n",
    "print('2.If the runners\\' finish times follow a normal distribution')\n",
    "print('2.Any performance differences between males and females of various age groups')\n"
   ]
  },
  {
   "cell_type": "code",
   "execution_count": null,
   "metadata": {},
   "outputs": [],
   "source": [
    "# Print the first 10 rows \n",
    "rows = soup.find_all('tr')\n",
    "print(rows[:10])"
   ]
  },
  {
   "cell_type": "code",
   "execution_count": null,
   "metadata": {},
   "outputs": [],
   "source": [
    "'''geting all table rows in list form  \n",
    "   and then convert that list into a dataframe\n",
    "   for easier manipulation '''\n",
    "\n",
    "for row in rows:\n",
    "    row_td = row.find_all('td')\n",
    "print(row_td)\n",
    "\n"
   ]
  },
  {
   "cell_type": "code",
   "execution_count": null,
   "metadata": {},
   "outputs": [],
   "source": [
    "# Using regular expression to remove the html tags\n",
    "list_rows = []\n",
    "for row in rows:\n",
    "    cells = row.find_all('td')\n",
    "    str_cells = str(cells)\n",
    "    clean = re.compile('<.*?>')\n",
    "    clean2 = (re.sub(clean, '',str_cells))\n",
    "    list_rows.append(clean2)\n",
    "print(clean2)\n",
    "\n",
    "\n"
   ]
  },
  {
   "cell_type": "code",
   "execution_count": null,
   "metadata": {},
   "outputs": [],
   "source": [
    "''' converting the list into a dataframe \n",
    "    and getting a quick view of the first 10 rows using Pandas.\n",
    "'''\n",
    "df = pd.DataFrame(list_rows)\n",
    "df.head(10)"
   ]
  },
  {
   "cell_type": "code",
   "execution_count": null,
   "metadata": {},
   "outputs": [],
   "source": [
    "# cleaning up the data to get the desired format\n",
    "df1 = df[0].str.split(',', expand=True)\n",
    "df1.head(10)"
   ]
  },
  {
   "cell_type": "code",
   "execution_count": null,
   "metadata": {
    "scrolled": true
   },
   "outputs": [],
   "source": [
    "# Stripping out the square brackets surrounding each row\n",
    "\n",
    "df1[0] = df1[0].str.strip('[')\n",
    "df1.head(10)"
   ]
  },
  {
   "cell_type": "code",
   "execution_count": null,
   "metadata": {},
   "outputs": [],
   "source": [
    "# Getting all the table headers\n",
    "col_labels = soup.find_all('th')\n",
    "\n",
    "#  Extracting text in between html tags for table headers.\n",
    "\n",
    "all_header = []\n",
    "col_str = str(col_labels)\n",
    "cleantext2 = bs(col_str, \"lxml\").get_text()\n",
    "all_header.append(cleantext2)\n",
    "print(all_header)"
   ]
  },
  {
   "cell_type": "code",
   "execution_count": null,
   "metadata": {},
   "outputs": [],
   "source": [
    "# converting the list of headers into a pandas dataframe.\n",
    "\n",
    "df2 = pd.DataFrame(all_header)\n",
    "df2.head()\n",
    "\n",
    "# splitting column \"0\" into multiple columns at the comma position for all rows.\n",
    "df3 = df2[0].str.split(',', expand=True)\n",
    "df3.head()\n",
    "\n",
    "# concatenating the two data frames\n",
    "\n",
    "frames = [df3, df1]\n",
    "\n",
    "df4 = pd.concat(frames)\n",
    "df4.head(10)\n",
    "\n",
    "# assinging the first row to be the header\n",
    "\n",
    "df5 = df4.rename(columns=df4.iloc[0])\n",
    "df5.head()"
   ]
  },
  {
   "cell_type": "code",
   "execution_count": null,
   "metadata": {},
   "outputs": [],
   "source": [
    "# getting an overview of the data for analysis\n",
    "\n",
    "df5.info()\n",
    "df5.shape\n",
    "\n",
    "# dropping all rows with any missing values.\n",
    "\n",
    "df6 = df5.dropna(axis=0, how='any')"
   ]
  },
  {
   "cell_type": "code",
   "execution_count": null,
   "metadata": {},
   "outputs": [],
   "source": [
    "# dropping the replicated table header as the first row in df5\n",
    "\n",
    "df7 = df6.drop(df6.index[0])\n",
    "\n",
    "# more data cleaning by renaming the '[Place' and ' Team]' columns\n",
    "\n",
    "df7.rename(columns={'[Place': 'Place'},inplace=True)\n",
    "df7.rename(columns={' Team]': 'Team'},inplace=True)\n",
    "\n",
    "# final data cleaning - removing the closing bracket for cells in the \"Team\" column.\n",
    "df7['Team'] = df7['Team'].str.strip(']')\n",
    "df7.head()"
   ]
  },
  {
   "cell_type": "code",
   "execution_count": null,
   "metadata": {},
   "outputs": [],
   "source": [
    "# converting the column \"Chip Time\" into just minutes.\n",
    "\n",
    "time_list = df7[' Chip Time'].tolist()\n",
    "\n",
    "time_mins = []\n",
    "\n",
    "for i in time_list:\n",
    "    i = i.strip(' ')\n",
    "    if len(i)!=7:\n",
    "        i = '0:' + i\n",
    "    h, m, s = i.split(':')\n",
    "    math = (int(h) * 3600 + int(m) * 60 + int(s))/60\n",
    "    time_mins.append(math)\n",
    "# print(time_mins)\n",
    "\n",
    "''' converting the list back into a dataframe \n",
    "    and making a new column (\"Runner_mins\") for runner chip\n",
    "    times expressed in just minutes.'''\n",
    "\n",
    "df7['Runner_mins'] = time_mins\n",
    "df7.head()"
   ]
  },
  {
   "cell_type": "code",
   "execution_count": null,
   "metadata": {},
   "outputs": [],
   "source": [
    "#  calculating statistics for numeric columns only in the dataframe.\n",
    "\n",
    "print('The average chip time for all runners was ~60 mins.')\n",
    "print('The fastest 10K runner finished in 36.35 mins.')\n",
    "print('The slowest runner finished in 101.30 minutes.')\n",
    "\n",
    "df7.describe(include=[np.number])\n",
    "\n"
   ]
  },
  {
   "cell_type": "code",
   "execution_count": null,
   "metadata": {},
   "outputs": [],
   "source": [
    "# A boxplot to visualize the summary statistics using pylab module\n",
    "\n",
    "from pylab import rcParams\n",
    "rcParams['figure.figsize'] = 15, 5\n",
    "\n",
    "print('Below are data summary statistics for the runners shown in a boxplot.')\n",
    "print('(Maximum, minimum, medium, first quartile, third quartile, including outliers)')\n",
    "\n",
    "df7.boxplot(column='Runner_mins')\n",
    "plt.grid(True, axis='y')\n",
    "plt.ylabel('Chip Time')\n",
    "plt.xticks([1], ['Runners'])"
   ]
  },
  {
   "cell_type": "code",
   "execution_count": null,
   "metadata": {},
   "outputs": [],
   "source": [
    "# distribution plot of runners' chip times plotted using the seaborn library.\n",
    "\n",
    "x = df7['Runner_mins']\n",
    "ax = sns.distplot(x, hist=True, kde=True, rug=False, color='m', bins=25, hist_kws={'edgecolor':'black'})\n",
    "plt.show()\n",
    "\n",
    "print('The ditribution of the runner\\s chip times looks almost normal')"
   ]
  },
  {
   "cell_type": "code",
   "execution_count": null,
   "metadata": {},
   "outputs": [],
   "source": [
    "# Finding out whether there were any performance differences between males and females of various age groups.\n",
    "\n",
    "f_fuko = df7.loc[df7[' Gender']==' F']['Runner_mins']\n",
    "m_fuko = df7.loc[df7[' Gender']==' M']['Runner_mins']\n",
    "sns.distplot(f_fuko, hist=True, kde=True, rug=False, hist_kws={'edgecolor':'black'}, label='Female')\n",
    "sns.distplot(m_fuko, hist=False, kde=True, rug=False, hist_kws={'edgecolor':'black'}, label='Male')\n",
    "plt.legend()\n",
    "\n",
    "print('The distribution indicates that females were slower than males on average.')"
   ]
  },
  {
   "cell_type": "code",
   "execution_count": null,
   "metadata": {},
   "outputs": [],
   "source": [
    "# computing summary statistics for males and females separately using groupby() method\n",
    "\n",
    "g_stats = df7.groupby(\" Gender\", as_index=True).describe()\n",
    "print(g_stats)\n",
    "\n",
    "print()\n",
    "print('The average chip time for all females and males was ~66 mins and ~58 mins, respectively')"
   ]
  },
  {
   "cell_type": "code",
   "execution_count": null,
   "metadata": {},
   "outputs": [],
   "source": [
    "print('Side-by-side boxplot comparison of male and female finish times.')\n",
    "print()\n",
    "\n",
    "df7.boxplot(column='Runner_mins', by=' Gender')\n",
    "plt.ylabel('Chip Time')\n",
    "plt.suptitle(\"\")"
   ]
  },
  {
   "cell_type": "code",
   "execution_count": null,
   "metadata": {},
   "outputs": [],
   "source": [
    "print('RECOMMENDATION:')\n",
    "print('''\n",
    "Since women perfomed poorer than the men, I would recommend that:\n",
    "1. They make better training plans, typically ranging from 12 to 20 weeks\n",
    "2. Aim to build their weekly mileage up to 50 miles over the four months leading up to race day\n",
    "3. Hydrate well for several days leading up to your marathon. \n",
    "    ''')\n",
    "print('''\n",
    "The runners can improve their performance before the race by:\n",
    "1. Hydrating well for several days leading up to your marathon.\n",
    "2. Eating a simple, high-carbohydrate breakfast several hours before the start of the race.\n",
    "3. Lathering up with a little Vaseline or BodyGlide in any areas vulnerable to chafing \n",
    "4. Getting to the starting line early, and if needed, get in the port-a-potty line 30–40 minutes before the official start time.\n",
    "5. Not overdressing\n",
    "\n",
    "The runners can improve their performance during the race by:\n",
    "1. Starting slowly. It's easy to get caught up in race-day adrenaline, but starting too fast is a big rookie mistake. \n",
    "2. Not blazing by every aid station or try to drink from a cup while running full blast.\n",
    "3. Enjoying the energy of the spectators.\n",
    "    ''')\n"
   ]
  },
  {
   "cell_type": "code",
   "execution_count": null,
   "metadata": {},
   "outputs": [],
   "source": []
  }
 ],
 "metadata": {
  "kernelspec": {
   "display_name": "Python 3",
   "language": "python",
   "name": "python3"
  },
  "language_info": {
   "codemirror_mode": {
    "name": "ipython",
    "version": 3
   },
   "file_extension": ".py",
   "mimetype": "text/x-python",
   "name": "python",
   "nbconvert_exporter": "python",
   "pygments_lexer": "ipython3",
   "version": "3.8.1"
  }
 },
 "nbformat": 4,
 "nbformat_minor": 4
}
